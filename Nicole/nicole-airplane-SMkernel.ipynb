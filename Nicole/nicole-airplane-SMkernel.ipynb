{
 "cells": [
  {
   "cell_type": "code",
   "execution_count": 9,
   "id": "built-aluminum",
   "metadata": {},
   "outputs": [],
   "source": [
    "import math\n",
    "import torch\n",
    "import gpytorch\n",
    "import numpy as np\n",
    "from matplotlib import pyplot as plt\n",
    "from scipy.io import loadmat"
   ]
  },
  {
   "cell_type": "code",
   "execution_count": 10,
   "id": "minute-intersection",
   "metadata": {},
   "outputs": [],
   "source": [
    "#First load data from xarray\n",
    "data = loadmat('/scratch/ns5264/bml-ocean/myjupyter/datasets/airlinedata.mat')\n",
    "\n",
    "#Prepare x and y training data\n",
    "x_train = torch.FloatTensor(data['xtrain']).squeeze()\n",
    "y_train = torch.FloatTensor(data['ytrain'].astype(float)).squeeze()\n",
    "\n",
    "xtrain_mean = x_train.mean()\n",
    "ytrain_mean = y_train.mean()\n",
    "xtrain_std = x_train.std()\n",
    "ytrain_std = y_train.std()\n",
    "\n",
    "x_train = (x_train - x_train.mean()) / x_train.std()\n",
    "y_train = (y_train - y_train.mean()) / y_train.std()\n",
    "\n",
    "#Prepare x and y testing data\n",
    "x_test = torch.FloatTensor(data['xtest']).squeeze()\n",
    "y_test = torch.FloatTensor(data['ytest'].astype(float)).squeeze()\n",
    "\n",
    "x_test = (x_test - xtrain_mean) / xtrain_std\n",
    "y_test = (y_test - ytrain_mean) / ytrain_std\n",
    "full_x = torch.cat((x_train, x_test))"
   ]
  },
  {
   "cell_type": "code",
   "execution_count": 11,
   "id": "disabled-basement",
   "metadata": {},
   "outputs": [
    {
     "data": {
      "image/png": "[encoded data removed]",
      "text/plain": [
       "<Figure size 432x288 with 1 Axes>"
      ]
     },
     "metadata": {
      "needs_background": "light"
     },
     "output_type": "display_data"
    }
   ],
   "source": [
    "# Graph Our training and testing points\n",
    "train_plt = plt.plot(x_train, y_train, label=\"Training\", color='steelblue')\n",
    "# test_plt = plt.plot(x_test, y_test, label=\"Testing\")\n",
    "plt.legend(loc=\"upper left\")\n",
    "plt.show()"
   ]
  },
  {
   "cell_type": "code",
   "execution_count": 12,
   "id": "hispanic-flight",
   "metadata": {},
   "outputs": [],
   "source": [
    "class SpectralMixtureGPModel(gpytorch.models.ExactGP):\n",
    "    def __init__(self, x_train, y_train, likelihood):\n",
    "        super(SpectralMixtureGPModel, self).__init__(x_train, y_train, likelihood)\n",
    "        self.mean_module = gpytorch.means.ConstantMean()\n",
    "        #changed num mixtures\n",
    "        self.covar_module = gpytorch.kernels.SpectralMixtureKernel(num_mixtures=17)\n",
    "        #changed to initialize_from_data_empspect from initialize_from_data\n",
    "        self.covar_module.initialize_from_data(x_train, y_train)\n",
    "\n",
    "    def forward(self,x):\n",
    "        mean_x = self.mean_module(x)\n",
    "        covar_x = self.covar_module(x)\n",
    "        return gpytorch.distributions.MultivariateNormal(mean_x, covar_x)\n",
    "\n",
    "\n",
    "likelihood = gpytorch.likelihoods.GaussianLikelihood()\n",
    "model = SpectralMixtureGPModel(x_train, y_train, likelihood)"
   ]
  },
  {
   "cell_type": "code",
   "execution_count": 13,
   "id": "existing-disorder",
   "metadata": {
    "scrolled": true
   },
   "outputs": [],
   "source": [
    "# this is for running the notebook in our testing framework\n",
    "import os\n",
    "smoke_test = ('CI' in os.environ)\n",
    "training_iter = 2 if smoke_test else 1000\n",
    "\n",
    "# Find optimal model hyperparameters\n",
    "model.train()\n",
    "likelihood.train()\n",
    "\n",
    "# Use the adam optimizer\n",
    "optimizer = torch.optim.Adam(model.parameters(), lr=0.1)\n",
    "\n",
    "# \"Loss\" for GPs - the marginal log likelihood\n",
    "mll = gpytorch.mlls.ExactMarginalLogLikelihood(likelihood, model)\n",
    "\n",
    "for i in range(training_iter):\n",
    "    optimizer.zero_grad()\n",
    "    output = model(x_train)\n",
    "    loss = -mll(output, y_train)\n",
    "    loss.backward()\n",
    "    optimizer.step()"
   ]
  },
  {
   "cell_type": "code",
   "execution_count": null,
   "id": "suspected-handy",
   "metadata": {
    "scrolled": false
   },
   "outputs": [],
   "source": [
    "# Get into evaluation (predictive posterior) mode\n",
    "model.eval()\n",
    "likelihood.eval()\n",
    "\n",
    "# The gpytorch.settings.fast_pred_var flag activates LOVE (for fast variances)\n",
    "# See https://arxiv.org/abs/1803.06058\n",
    "with torch.no_grad(), gpytorch.settings.fast_pred_var():\n",
    "    \n",
    "    # Make predictions\n",
    "    observed_pred = likelihood(model(x_test))\n",
    "    observed_pred_full = likelihood(model(full_x))\n",
    "    \n",
    "    # Initialize plot\n",
    "    f, ax = plt.subplots(1, 1, figsize=(11, 7))\n",
    "    \n",
    "    # Get upper and lower confidence bounds\n",
    "    lower, upper = observed_pred.confidence_region()\n",
    "    lower_full, upper_full = observed_pred_full.confidence_region()\n",
    "\n",
    "    # Plot training data as black x's\n",
    "    ax.plot(x_train.numpy(), y_train.numpy(), 'x', color='black', markersize=4)\n",
    "    \n",
    "    # Plot test data as red line\n",
    "    ax.plot(x_test.numpy(), y_test.numpy(), '--', color='red', lw=1.5)\n",
    "\n",
    "    # Plot predictive means as blue line\n",
    "    ax.plot(full_x.numpy(), observed_pred_full.mean.numpy(), 'mediumblue', lw=1.5)\n",
    "\n",
    "    # Shade between the lower and upper confidence bounds\n",
    "    ax.fill_between(full_x.numpy() , lower_full.numpy(), upper_full.numpy(), facecolor='mediumblue',alpha=0.15)\n",
    "    \n",
    "    ax.legend(['Training Data', 'True Test Data', 'GP Prediction', 'Confidence'])\n",
    "    \n"
   ]
  }
 ],
 "metadata": {
  "kernelspec": {
   "display_name": "Python 3",
   "language": "python",
   "name": "python3"
  },
  "language_info": {
   "codemirror_mode": {
    "name": "ipython",
    "version": 3
   },
   "file_extension": ".py",
   "mimetype": "text/x-python",
   "name": "python",
   "nbconvert_exporter": "python",
   "pygments_lexer": "ipython3",
   "version": "3.8.5"
  }
 },
 "nbformat": 4,
 "nbformat_minor": 5
}
